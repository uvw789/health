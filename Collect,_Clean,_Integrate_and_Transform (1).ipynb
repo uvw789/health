{
  "nbformat": 4,
  "nbformat_minor": 0,
  "metadata": {
    "colab": {
      "provenance": []
    },
    "kernelspec": {
      "name": "python3",
      "display_name": "Python 3"
    },
    "language_info": {
      "name": "python"
    }
  },
  "cells": [
    {
      "cell_type": "code",
      "execution_count": null,
      "metadata": {
        "id": "Fwde5yULSem9"
      },
      "outputs": [],
      "source": [
        "import pandas as pd\n",
        "import numpy as np\n",
        "import seaborn as sns\n",
        "import matplotlib.pyplot as plt\n",
        "from sklearn.preprocessing import StandardScaler"
      ]
    },
    {
      "cell_type": "code",
      "source": [
        "#1. Collect\n",
        "file_path = 'diabetes.csv'\n",
        "data = pd.read_csv(file_path)"
      ],
      "metadata": {
        "id": "MeCh7FgoShnR"
      },
      "execution_count": null,
      "outputs": []
    },
    {
      "cell_type": "code",
      "source": [
        "print(data.info())"
      ],
      "metadata": {
        "colab": {
          "base_uri": "https://localhost:8080/"
        },
        "id": "uk-47vdFSj_I",
        "outputId": "66c67c41-b2c4-4e48-dafb-7b4c3cf37fe2"
      },
      "execution_count": null,
      "outputs": [
        {
          "output_type": "stream",
          "name": "stdout",
          "text": [
            "<class 'pandas.core.frame.DataFrame'>\n",
            "RangeIndex: 768 entries, 0 to 767\n",
            "Data columns (total 9 columns):\n",
            " #   Column                    Non-Null Count  Dtype  \n",
            "---  ------                    --------------  -----  \n",
            " 0   Pregnancies               768 non-null    int64  \n",
            " 1   Glucose                   768 non-null    int64  \n",
            " 2   BloodPressure             768 non-null    int64  \n",
            " 3   SkinThickness             768 non-null    int64  \n",
            " 4   Insulin                   768 non-null    int64  \n",
            " 5   BMI                       768 non-null    float64\n",
            " 6   DiabetesPedigreeFunction  768 non-null    float64\n",
            " 7   Age                       768 non-null    int64  \n",
            " 8   Outcome                   768 non-null    int64  \n",
            "dtypes: float64(2), int64(7)\n",
            "memory usage: 54.1 KB\n",
            "None\n"
          ]
        }
      ]
    },
    {
      "cell_type": "code",
      "source": [
        "print(data.head())"
      ],
      "metadata": {
        "colab": {
          "base_uri": "https://localhost:8080/"
        },
        "id": "TS33DF4SX375",
        "outputId": "bf19a698-0455-46a4-967a-5bbff988777b"
      },
      "execution_count": null,
      "outputs": [
        {
          "output_type": "stream",
          "name": "stdout",
          "text": [
            "   Pregnancies  Glucose  BloodPressure  SkinThickness  Insulin   BMI  \\\n",
            "0            6      148             72             35        0  33.6   \n",
            "1            1       85             66             29        0  26.6   \n",
            "2            8      183             64              0        0  23.3   \n",
            "3            1       89             66             23       94  28.1   \n",
            "4            0      137             40             35      168  43.1   \n",
            "\n",
            "   DiabetesPedigreeFunction  Age  Outcome  \n",
            "0                     0.627   50        1  \n",
            "1                     0.351   31        0  \n",
            "2                     0.672   32        1  \n",
            "3                     0.167   21        0  \n",
            "4                     2.288   33        1  \n"
          ]
        }
      ]
    },
    {
      "cell_type": "code",
      "source": [],
      "metadata": {
        "id": "Q9-ClwrxVsRo"
      },
      "execution_count": null,
      "outputs": []
    },
    {
      "cell_type": "code",
      "source": [
        "#2. Clean\n",
        "print(data.isnull().sum())"
      ],
      "metadata": {
        "colab": {
          "base_uri": "https://localhost:8080/"
        },
        "id": "dmzm1RZDSsPw",
        "outputId": "a90ac1a0-3a11-49fa-d154-69a6792b3e0e"
      },
      "execution_count": null,
      "outputs": [
        {
          "output_type": "stream",
          "name": "stdout",
          "text": [
            "Pregnancies                 0\n",
            "Glucose                     0\n",
            "BloodPressure               0\n",
            "SkinThickness               0\n",
            "Insulin                     0\n",
            "BMI                         0\n",
            "DiabetesPedigreeFunction    0\n",
            "Age                         0\n",
            "Outcome                     0\n",
            "dtype: int64\n"
          ]
        }
      ]
    },
    {
      "cell_type": "code",
      "source": [
        "new_data = data.drop_duplicates()"
      ],
      "metadata": {
        "id": "n1AzxsCDS3PX"
      },
      "execution_count": null,
      "outputs": []
    },
    {
      "cell_type": "code",
      "source": [
        "columns_to_replace = ['Pregnancies', 'Glucose', 'BloodPressure', 'SkinThickness', 'Insulin', 'BMI', 'DiabetesPedigreeFunction', 'Age']\n",
        "new_data[columns_to_replace] = new_data[columns_to_replace].replace(0, np.nan)\n",
        "\n",
        "new_data.fillna(new_data.mean(), inplace=True)\n",
        "\n",
        "\n",
        "print(new_data.head())"
      ],
      "metadata": {
        "colab": {
          "base_uri": "https://localhost:8080/"
        },
        "id": "Vb-HE6e9XaR_",
        "outputId": "f07d7544-0e61-437d-bbd1-c073b1c032d7"
      },
      "execution_count": null,
      "outputs": [
        {
          "output_type": "stream",
          "name": "stdout",
          "text": [
            "   Pregnancies  Glucose  BloodPressure  SkinThickness     Insulin   BMI  \\\n",
            "0     6.000000    148.0           72.0       35.00000  155.548223  33.6   \n",
            "1     1.000000     85.0           66.0       29.00000  155.548223  26.6   \n",
            "2     8.000000    183.0           64.0       29.15342  155.548223  23.3   \n",
            "3     1.000000     89.0           66.0       23.00000   94.000000  28.1   \n",
            "4     4.494673    137.0           40.0       35.00000  168.000000  43.1   \n",
            "\n",
            "   DiabetesPedigreeFunction  Age  Outcome  \n",
            "0                     0.627   50        1  \n",
            "1                     0.351   31        0  \n",
            "2                     0.672   32        1  \n",
            "3                     0.167   21        0  \n",
            "4                     2.288   33        1  \n"
          ]
        }
      ]
    },
    {
      "cell_type": "code",
      "source": [
        "print(new_data.columns)"
      ],
      "metadata": {
        "colab": {
          "base_uri": "https://localhost:8080/"
        },
        "id": "rTS_M8SSS6kH",
        "outputId": "f2bf91dc-725d-41dd-e856-8c6e59f9bc9e"
      },
      "execution_count": null,
      "outputs": [
        {
          "output_type": "stream",
          "name": "stdout",
          "text": [
            "Index(['Pregnancies', 'Glucose', 'BloodPressure', 'SkinThickness', 'Insulin',\n",
            "       'BMI', 'DiabetesPedigreeFunction', 'Age', 'Outcome'],\n",
            "      dtype='object')\n"
          ]
        }
      ]
    },
    {
      "cell_type": "code",
      "source": [
        "print(new_data.describe())"
      ],
      "metadata": {
        "colab": {
          "base_uri": "https://localhost:8080/"
        },
        "id": "RUY01273TW6H",
        "outputId": "ffc31056-ce24-483b-d00a-95c0cb57c6ed"
      },
      "execution_count": null,
      "outputs": [
        {
          "output_type": "stream",
          "name": "stdout",
          "text": [
            "       Pregnancies     Glucose  BloodPressure  SkinThickness     Insulin  \\\n",
            "count   768.000000  768.000000     768.000000     768.000000  768.000000   \n",
            "mean      4.494673  121.686763      72.405184      29.153420  155.548223   \n",
            "std       2.975395   30.435949      12.096346       8.790942   85.021108   \n",
            "min       1.000000   44.000000      24.000000       7.000000   14.000000   \n",
            "25%       2.000000   99.750000      64.000000      25.000000  121.500000   \n",
            "50%       4.494673  117.000000      72.202592      29.153420  155.548223   \n",
            "75%       6.000000  140.250000      80.000000      32.000000  155.548223   \n",
            "max      17.000000  199.000000     122.000000      99.000000  846.000000   \n",
            "\n",
            "              BMI  DiabetesPedigreeFunction         Age     Outcome  \n",
            "count  768.000000                768.000000  768.000000  768.000000  \n",
            "mean    32.457464                  0.471876   33.240885    0.348958  \n",
            "std      6.875151                  0.331329   11.760232    0.476951  \n",
            "min     18.200000                  0.078000   21.000000    0.000000  \n",
            "25%     27.500000                  0.243750   24.000000    0.000000  \n",
            "50%     32.400000                  0.372500   29.000000    0.000000  \n",
            "75%     36.600000                  0.626250   41.000000    1.000000  \n",
            "max     67.100000                  2.420000   81.000000    1.000000  \n"
          ]
        }
      ]
    },
    {
      "cell_type": "code",
      "source": [
        "#3. Integrate\n",
        "new_file_path = 'pima-indians-diabetes.csv'\n",
        "new_data2 = pd.read_csv(new_file_path)\n",
        "\n",
        "print(new_data2.info())"
      ],
      "metadata": {
        "colab": {
          "base_uri": "https://localhost:8080/"
        },
        "id": "b3XsXj1HVmtY",
        "outputId": "8168311f-3be3-4b24-8ef7-740e678203c9"
      },
      "execution_count": null,
      "outputs": [
        {
          "output_type": "stream",
          "name": "stdout",
          "text": [
            "<class 'pandas.core.frame.DataFrame'>\n",
            "RangeIndex: 767 entries, 0 to 766\n",
            "Data columns (total 9 columns):\n",
            " #   Column  Non-Null Count  Dtype  \n",
            "---  ------  --------------  -----  \n",
            " 0   6       767 non-null    int64  \n",
            " 1   148     767 non-null    int64  \n",
            " 2   72      767 non-null    int64  \n",
            " 3   35      767 non-null    int64  \n",
            " 4   0       767 non-null    int64  \n",
            " 5   33.6    767 non-null    float64\n",
            " 6   0.627   767 non-null    float64\n",
            " 7   50      767 non-null    int64  \n",
            " 8   1       767 non-null    int64  \n",
            "dtypes: float64(2), int64(7)\n",
            "memory usage: 54.1 KB\n",
            "None\n"
          ]
        }
      ]
    },
    {
      "cell_type": "code",
      "source": [
        "print(\"null values\")\n",
        "print(new_data2.isnull().sum())\n",
        "\n",
        "new_data2 = new_data2.drop_duplicates()\n",
        "\n",
        "columns_to_replace = new_data2.columns[:-1]\n",
        "new_data2[columns_to_replace] = new_data2[columns_to_replace].replace(0, np.nan)\n",
        "\n",
        "new_data2.fillna(new_data2.mean(), inplace=True)\n",
        "\n",
        "print(\"\\n sample data\")\n",
        "print(new_data2.head())\n",
        "\n",
        "print(\"\\n description\")\n",
        "print(new_data2.describe())"
      ],
      "metadata": {
        "colab": {
          "base_uri": "https://localhost:8080/"
        },
        "id": "N251_LjfYacp",
        "outputId": "d0c0058b-15a6-4f81-ad4b-2e899c2db157"
      },
      "execution_count": null,
      "outputs": [
        {
          "output_type": "stream",
          "name": "stdout",
          "text": [
            "null values\n",
            "6        0\n",
            "148      0\n",
            "72       0\n",
            "35       0\n",
            "0        0\n",
            "33.6     0\n",
            "0.627    0\n",
            "50       0\n",
            "1        0\n",
            "dtype: int64\n",
            "\n",
            " sample data\n",
            "          6    148    72         35           0  33.6  0.627  50  1\n",
            "0  1.000000   85.0  66.0  29.000000  155.548223  26.6  0.351  31  0\n",
            "1  8.000000  183.0  64.0  29.142593  155.548223  23.3  0.672  32  1\n",
            "2  1.000000   89.0  66.0  23.000000   94.000000  28.1  0.167  21  0\n",
            "3  4.492378  137.0  40.0  35.000000  168.000000  43.1  2.288  33  1\n",
            "4  5.000000  116.0  74.0  29.142593  155.548223  25.6  0.201  30  0\n",
            "\n",
            " description\n",
            "                6         148          72          35           0        33.6  \\\n",
            "count  767.000000  767.000000  767.000000  767.000000  767.000000  767.000000   \n",
            "mean     4.492378  121.652231   72.405738   29.142593  155.548223   32.455952   \n",
            "std      2.976839   30.440947   12.104231    8.794137   85.076586    6.879514   \n",
            "min      1.000000   44.000000   24.000000    7.000000   14.000000   18.200000   \n",
            "25%      2.000000   99.500000   64.000000   25.000000  121.000000   27.500000   \n",
            "50%      4.492378  117.000000   72.405738   29.142593  155.548223   32.400000   \n",
            "75%      6.000000  140.000000   80.000000   32.000000  155.548223   36.600000   \n",
            "max     17.000000  199.000000  122.000000   99.000000  846.000000   67.100000   \n",
            "\n",
            "            0.627          50           1  \n",
            "count  767.000000  767.000000  767.000000  \n",
            "mean     0.471674   33.219035    0.348110  \n",
            "std      0.331497   11.752296    0.476682  \n",
            "min      0.078000   21.000000    0.000000  \n",
            "25%      0.243500   24.000000    0.000000  \n",
            "50%      0.371000   29.000000    0.000000  \n",
            "75%      0.625000   41.000000    1.000000  \n",
            "max      2.420000   81.000000    1.000000  \n"
          ]
        }
      ]
    },
    {
      "cell_type": "code",
      "source": [
        "combined_data = pd.concat([new_data, new_data2], ignore_index=True)"
      ],
      "metadata": {
        "id": "gXThwIU4VsEh"
      },
      "execution_count": null,
      "outputs": []
    },
    {
      "cell_type": "code",
      "source": [
        "print(combined_data.info())\n",
        "print(combined_data.head())"
      ],
      "metadata": {
        "colab": {
          "base_uri": "https://localhost:8080/"
        },
        "id": "IPDdKhXmVwag",
        "outputId": "d3e6f7b1-0438-4b93-b727-87edee9acbee"
      },
      "execution_count": null,
      "outputs": [
        {
          "output_type": "stream",
          "name": "stdout",
          "text": [
            "<class 'pandas.core.frame.DataFrame'>\n",
            "RangeIndex: 1535 entries, 0 to 1534\n",
            "Data columns (total 18 columns):\n",
            " #   Column                    Non-Null Count  Dtype  \n",
            "---  ------                    --------------  -----  \n",
            " 0   Pregnancies               768 non-null    float64\n",
            " 1   Glucose                   768 non-null    float64\n",
            " 2   BloodPressure             768 non-null    float64\n",
            " 3   SkinThickness             768 non-null    float64\n",
            " 4   Insulin                   768 non-null    float64\n",
            " 5   BMI                       768 non-null    float64\n",
            " 6   DiabetesPedigreeFunction  768 non-null    float64\n",
            " 7   Age                       768 non-null    float64\n",
            " 8   Outcome                   768 non-null    float64\n",
            " 9   6                         767 non-null    float64\n",
            " 10  148                       767 non-null    float64\n",
            " 11  72                        767 non-null    float64\n",
            " 12  35                        767 non-null    float64\n",
            " 13  0                         767 non-null    float64\n",
            " 14  33.6                      767 non-null    float64\n",
            " 15  0.627                     767 non-null    float64\n",
            " 16  50                        767 non-null    float64\n",
            " 17  1                         767 non-null    float64\n",
            "dtypes: float64(18)\n",
            "memory usage: 216.0 KB\n",
            "None\n",
            "   Pregnancies  Glucose  BloodPressure  SkinThickness     Insulin   BMI  \\\n",
            "0     6.000000    148.0           72.0       35.00000  155.548223  33.6   \n",
            "1     1.000000     85.0           66.0       29.00000  155.548223  26.6   \n",
            "2     8.000000    183.0           64.0       29.15342  155.548223  23.3   \n",
            "3     1.000000     89.0           66.0       23.00000   94.000000  28.1   \n",
            "4     4.494673    137.0           40.0       35.00000  168.000000  43.1   \n",
            "\n",
            "   DiabetesPedigreeFunction   Age  Outcome   6  148  72  35   0  33.6  0.627  \\\n",
            "0                     0.627  50.0      1.0 NaN  NaN NaN NaN NaN   NaN    NaN   \n",
            "1                     0.351  31.0      0.0 NaN  NaN NaN NaN NaN   NaN    NaN   \n",
            "2                     0.672  32.0      1.0 NaN  NaN NaN NaN NaN   NaN    NaN   \n",
            "3                     0.167  21.0      0.0 NaN  NaN NaN NaN NaN   NaN    NaN   \n",
            "4                     2.288  33.0      1.0 NaN  NaN NaN NaN NaN   NaN    NaN   \n",
            "\n",
            "   50   1  \n",
            "0 NaN NaN  \n",
            "1 NaN NaN  \n",
            "2 NaN NaN  \n",
            "3 NaN NaN  \n",
            "4 NaN NaN  \n"
          ]
        }
      ]
    },
    {
      "cell_type": "code",
      "source": [
        "#4. Transform\n",
        "numeric_cols = combined_data.select_dtypes(include=[np.number]).columns\n",
        "scaler = StandardScaler()"
      ],
      "metadata": {
        "id": "LyRtb4mqTdGA"
      },
      "execution_count": null,
      "outputs": []
    },
    {
      "cell_type": "code",
      "source": [
        "combined_data[numeric_cols] = scaler.fit_transform(combined_data[numeric_cols])"
      ],
      "metadata": {
        "id": "7WNTkvO8TunI"
      },
      "execution_count": null,
      "outputs": []
    },
    {
      "cell_type": "code",
      "source": [
        "print(combined_data.head())"
      ],
      "metadata": {
        "colab": {
          "base_uri": "https://localhost:8080/"
        },
        "id": "53C1Vvp0T1jH",
        "outputId": "d354dc88-3647-4fca-d69a-1e91c32e6e9f"
      },
      "execution_count": null,
      "outputs": [
        {
          "output_type": "stream",
          "name": "stdout",
          "text": [
            "    Pregnancies   Glucose  BloodPressure  SkinThickness       Insulin  \\\n",
            "0  5.062549e-01  0.865108      -0.033518       0.665502 -3.345079e-16   \n",
            "1 -1.175289e+00 -1.206162      -0.529859      -0.017463 -3.345079e-16   \n",
            "2  1.178873e+00  2.015813      -0.695306       0.000000 -3.345079e-16   \n",
            "3 -1.175289e+00 -1.074652      -0.529859      -0.700429 -7.243887e-01   \n",
            "4  2.987023e-16  0.503458      -2.680669       0.665502  1.465506e-01   \n",
            "\n",
            "        BMI  DiabetesPedigreeFunction       Age   Outcome   6  148  72  35  \\\n",
            "0  0.166292                  0.468492  1.425995  1.365896 NaN  NaN NaN NaN   \n",
            "1 -0.852531                 -0.365061 -0.190672 -0.732120 NaN  NaN NaN NaN   \n",
            "2 -1.332833                  0.604397 -0.105584  1.365896 NaN  NaN NaN NaN   \n",
            "3 -0.634212                 -0.920763 -1.041549 -0.732120 NaN  NaN NaN NaN   \n",
            "4  1.548980                  5.484909 -0.020496  1.365896 NaN  NaN NaN NaN   \n",
            "\n",
            "    0  33.6  0.627  50   1  \n",
            "0 NaN   NaN    NaN NaN NaN  \n",
            "1 NaN   NaN    NaN NaN NaN  \n",
            "2 NaN   NaN    NaN NaN NaN  \n",
            "3 NaN   NaN    NaN NaN NaN  \n",
            "4 NaN   NaN    NaN NaN NaN  \n"
          ]
        }
      ]
    },
    {
      "cell_type": "code",
      "source": [
        "cleaned_file_path = 'combined_data.csv'\n",
        "combined_data.to_csv(cleaned_file_path, index=False)"
      ],
      "metadata": {
        "id": "AcFr7x2hT-Of"
      },
      "execution_count": null,
      "outputs": []
    },
    {
      "cell_type": "code",
      "source": [
        "This practical showcased the essential data preparation steps of collecting, cleaning, integrating, and transforming two diabetes datasets. Missing values were handled, duplicates removed, and datasets combined using Pandas functions. Numerical features were then standardized using scikit-learn's StandardScaler, resulting in a cleaned and transformed dataset saved as \"combined_data.csv,\" ready for subsequent analysis and modeling. This process ensures data reliability and suitability for further data science tasks."
      ],
      "metadata": {
        "id": "JKL4TKjPWh5n"
      },
      "execution_count": null,
      "outputs": []
    }
  ]
}